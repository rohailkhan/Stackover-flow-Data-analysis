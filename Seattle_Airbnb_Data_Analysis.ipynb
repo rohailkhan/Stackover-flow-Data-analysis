{
  "nbformat": 4,
  "nbformat_minor": 0,
  "metadata": {
    "kernelspec": {
      "name": "python383jvsc74a57bd08d86c190dfcadcdaa67edec4a1ea82702241987b5b1f320c920d3d4ca36fee5b",
      "display_name": "Python 3.8.3 64-bit ('base': conda)"
    },
    "language_info": {
      "codemirror_mode": {
        "name": "ipython",
        "version": 3
      },
      "file_extension": ".py",
      "mimetype": "text/x-python",
      "name": "python",
      "nbconvert_exporter": "python",
      "pygments_lexer": "ipython3",
      "version": "3.8.3"
    },
    "colab": {
      "name": "Seattle Airbnb Data Analysis.ipynb",
      "provenance": [],
      "include_colab_link": true
    },
    "accelerator": "GPU"
  },
  "cells": [
    {
      "cell_type": "markdown",
      "metadata": {
        "id": "view-in-github",
        "colab_type": "text"
      },
      "source": [
        "<a href=\"https://colab.research.google.com/github/rohailkhan/Stackover-flow-Data-analysis/blob/master/Seattle_Airbnb_Data_Analysis.ipynb\" target=\"_parent\"><img src=\"https://colab.research.google.com/assets/colab-badge.svg\" alt=\"Open In Colab\"/></a>"
      ]
    },
    {
      "cell_type": "code",
      "metadata": {
        "id": "RmVUxcD557KP"
      },
      "source": [
        "import numpy as np\n",
        "import pandas as pd\n",
        "import matplotlib.pyplot as plt\n",
        "from sklearn.linear_model import LinearRegression\n",
        "from sklearn.model_selection import train_test_split\n",
        "from sklearn.metrics import r2_score, mean_squared_error\n",
        "#import test1 as t\n",
        "import seaborn as sns\n",
        "%matplotlib inline\n"
      ],
      "execution_count": 1,
      "outputs": []
    },
    {
      "cell_type": "code",
      "metadata": {
        "colab": {
          "base_uri": "https://localhost:8080/"
        },
        "id": "tMy15mnn6Ekp",
        "outputId": "0a7a4b76-e7f0-499a-e6b4-4e00e7ba1da1"
      },
      "source": [
        "from google.colab import drive\n",
        "drive.mount('/content/drive')"
      ],
      "execution_count": 2,
      "outputs": [
        {
          "output_type": "stream",
          "text": [
            "Mounted at /content/drive\n"
          ],
          "name": "stdout"
        }
      ]
    },
    {
      "cell_type": "code",
      "metadata": {
        "id": "BDPCX7GG57K2"
      },
      "source": [
        "pd.set_option(\"display.max_columns\", None)"
      ],
      "execution_count": 3,
      "outputs": []
    },
    {
      "cell_type": "code",
      "metadata": {
        "id": "7k3TcoXW57K8"
      },
      "source": [
        "calendar=pd.read_csv('/content/drive/MyDrive/A Udacity Data scientist/Lesson 1/calendar.csv')\n",
        "listings=pd.read_csv('/content/drive/MyDrive/A Udacity Data scientist/Lesson 1/listings.csv')\n",
        "reviews=pd.read_csv('/content/drive/MyDrive/A Udacity Data scientist/Lesson 1/reviews.csv')"
      ],
      "execution_count": 4,
      "outputs": []
    },
    {
      "cell_type": "code",
      "metadata": {
        "id": "PSQlXRD9bEu4"
      },
      "source": [
        "\n",
        "#'property_type', 'room_type', 'bed_type' ,'size'\n",
        "# ans NO:  ,'size'\n",
        "# 'Family_kid_friendly', 'Host_greets_you', 'Smoking_allowed' # None present\n",
        "columns_to_keep=['id',\n",
        " 'host_location',\n",
        "  'host_neighbourhood',\n",
        " 'host_has_profile_pic',\n",
        " 'host_identity_verified',\n",
        " 'neighbourhood',\n",
        " 'neighbourhood_cleansed',\n",
        " 'neighbourhood_group_cleansed',\n",
        " 'city','price',\n",
        " 'state',\n",
        " 'latitude',\n",
        " 'longitude',\n",
        " 'is_location_exact',\n",
        " 'property_type',\n",
        " ##\n",
        " 'room_type', 'bed_type',##\n",
        " 'accommodates',\n",
        " 'bathrooms',\n",
        " 'bedrooms',\n",
        " 'amenities',\n",
        " 'cleaning_fee',\n",
        " 'guests_included',\n",
        " 'extra_people',\n",
        " 'minimum_nights',\n",
        " 'maximum_nights',\n",
        " 'review_scores_rating',\n",
        " 'review_scores_cleanliness',\n",
        " 'review_scores_location',\n",
        " 'cancellation_policy']"
      ],
      "execution_count": 5,
      "outputs": []
    },
    {
      "cell_type": "code",
      "metadata": {
        "id": "sMKrVKHRf0Iq"
      },
      "source": [
        "def clean_listings(df):\n",
        "    df=df[columns_to_keep]\n",
        "    change_to_float_columns=['cleaning_fee','extra_people', 'price']\n",
        "    for col in change_to_float_columns:\n",
        "        df[col]=df[col].str.replace(\"$\",\"\").str.replace(\",\",\"\").str.replace(\"%\",\"\").astype(float).copy()\n",
        "    fill_mean_columns=['cleaning_fee','review_scores_rating','review_scores_cleanliness','review_scores_location']\n",
        "    for col in fill_mean_columns:\n",
        "        df[col]=df[col].fillna(df[col].mean())\n",
        "    outlier_columns=['price', 'extra_people', 'cleaning_fee','bathrooms','bedrooms']\n",
        "    for col in outlier_columns:\n",
        "        df[col]=np.where(df[col]>df[col].quantile(0.80),df[col].quantile(0.80),df[col])\n",
        "    # dropping small number of null values for numeric columns\n",
        "    df.dropna(subset=['bathrooms', 'bedrooms'], inplace=True)\n",
        "    # dropping small number of null values for object columns\n",
        "    df.dropna(subset=['host_neighbourhood','host_location','host_has_profile_pic','host_identity_verified','property_type','neighbourhood'], inplace=True)\n",
        "    df['amenities']=df['amenities'].str.strip('{}').str.replace('\"','').str.split(',')\n",
        "    h=[]\n",
        "    for i in df.amenities:\n",
        "        h.append(len(i))\n",
        "    df['amenities_number']=h\n",
        "    \n",
        "    df.drop(columns=['id','amenities'],inplace=True)\n",
        "    ## making dummy variables for categorical data\n",
        "    \n",
        "    # for col in categorical_features:\n",
        "    #     try:\n",
        "    #         df=pd.concat([df.drop(col,axis=1)  , pd.get_dummis(df[var], prefix=var, prefix_sep='_', drop_first=True)], axis=1)\n",
        "    #     except:\n",
        "    #         continue\n",
        "    categorical_features=df.select_dtypes(include=['object']).columns\n",
        "    for col in categorical_features:\n",
        "        df=pd.concat([df.drop(col,axis=1)  , pd.get_dummies(df[col], prefix=col, prefix_sep='_', drop_first=True)], axis=1)\n",
        "    X=df.drop(['price'],axis=1)\n",
        "    y=df[['price']]\n",
        "    \n",
        "    return X,y,df\n"
      ],
      "execution_count": 6,
      "outputs": []
    },
    {
      "cell_type": "code",
      "metadata": {
        "colab": {
          "base_uri": "https://localhost:8080/"
        },
        "id": "Z29JGAyvf0Tn",
        "outputId": "9dad5447-a61c-4a0e-ae40-c84f23e5a341"
      },
      "source": [
        "X,y,df=clean_listings(listings)"
      ],
      "execution_count": 7,
      "outputs": [
        {
          "output_type": "stream",
          "text": [
            "/usr/local/lib/python3.7/dist-packages/ipykernel_launcher.py:5: SettingWithCopyWarning: \n",
            "A value is trying to be set on a copy of a slice from a DataFrame.\n",
            "Try using .loc[row_indexer,col_indexer] = value instead\n",
            "\n",
            "See the caveats in the documentation: https://pandas.pydata.org/pandas-docs/stable/user_guide/indexing.html#returning-a-view-versus-a-copy\n",
            "  \"\"\"\n",
            "/usr/local/lib/python3.7/dist-packages/ipykernel_launcher.py:8: SettingWithCopyWarning: \n",
            "A value is trying to be set on a copy of a slice from a DataFrame.\n",
            "Try using .loc[row_indexer,col_indexer] = value instead\n",
            "\n",
            "See the caveats in the documentation: https://pandas.pydata.org/pandas-docs/stable/user_guide/indexing.html#returning-a-view-versus-a-copy\n",
            "  \n",
            "/usr/local/lib/python3.7/dist-packages/ipykernel_launcher.py:11: SettingWithCopyWarning: \n",
            "A value is trying to be set on a copy of a slice from a DataFrame.\n",
            "Try using .loc[row_indexer,col_indexer] = value instead\n",
            "\n",
            "See the caveats in the documentation: https://pandas.pydata.org/pandas-docs/stable/user_guide/indexing.html#returning-a-view-versus-a-copy\n",
            "  # This is added back by InteractiveShellApp.init_path()\n",
            "/usr/local/lib/python3.7/dist-packages/ipykernel_launcher.py:11: SettingWithCopyWarning: \n",
            "A value is trying to be set on a copy of a slice from a DataFrame.\n",
            "Try using .loc[row_indexer,col_indexer] = value instead\n",
            "\n",
            "See the caveats in the documentation: https://pandas.pydata.org/pandas-docs/stable/user_guide/indexing.html#returning-a-view-versus-a-copy\n",
            "  # This is added back by InteractiveShellApp.init_path()\n",
            "/usr/local/lib/python3.7/dist-packages/ipykernel_launcher.py:11: SettingWithCopyWarning: \n",
            "A value is trying to be set on a copy of a slice from a DataFrame.\n",
            "Try using .loc[row_indexer,col_indexer] = value instead\n",
            "\n",
            "See the caveats in the documentation: https://pandas.pydata.org/pandas-docs/stable/user_guide/indexing.html#returning-a-view-versus-a-copy\n",
            "  # This is added back by InteractiveShellApp.init_path()\n",
            "/usr/local/lib/python3.7/dist-packages/ipykernel_launcher.py:11: SettingWithCopyWarning: \n",
            "A value is trying to be set on a copy of a slice from a DataFrame.\n",
            "Try using .loc[row_indexer,col_indexer] = value instead\n",
            "\n",
            "See the caveats in the documentation: https://pandas.pydata.org/pandas-docs/stable/user_guide/indexing.html#returning-a-view-versus-a-copy\n",
            "  # This is added back by InteractiveShellApp.init_path()\n",
            "/usr/local/lib/python3.7/dist-packages/ipykernel_launcher.py:11: SettingWithCopyWarning: \n",
            "A value is trying to be set on a copy of a slice from a DataFrame.\n",
            "Try using .loc[row_indexer,col_indexer] = value instead\n",
            "\n",
            "See the caveats in the documentation: https://pandas.pydata.org/pandas-docs/stable/user_guide/indexing.html#returning-a-view-versus-a-copy\n",
            "  # This is added back by InteractiveShellApp.init_path()\n",
            "/usr/local/lib/python3.7/dist-packages/ipykernel_launcher.py:13: SettingWithCopyWarning: \n",
            "A value is trying to be set on a copy of a slice from a DataFrame\n",
            "\n",
            "See the caveats in the documentation: https://pandas.pydata.org/pandas-docs/stable/user_guide/indexing.html#returning-a-view-versus-a-copy\n",
            "  del sys.path[0]\n",
            "/usr/local/lib/python3.7/dist-packages/ipykernel_launcher.py:15: SettingWithCopyWarning: \n",
            "A value is trying to be set on a copy of a slice from a DataFrame\n",
            "\n",
            "See the caveats in the documentation: https://pandas.pydata.org/pandas-docs/stable/user_guide/indexing.html#returning-a-view-versus-a-copy\n",
            "  from ipykernel import kernelapp as app\n",
            "/usr/local/lib/python3.7/dist-packages/ipykernel_launcher.py:16: SettingWithCopyWarning: \n",
            "A value is trying to be set on a copy of a slice from a DataFrame.\n",
            "Try using .loc[row_indexer,col_indexer] = value instead\n",
            "\n",
            "See the caveats in the documentation: https://pandas.pydata.org/pandas-docs/stable/user_guide/indexing.html#returning-a-view-versus-a-copy\n",
            "  app.launch_new_instance()\n",
            "/usr/local/lib/python3.7/dist-packages/ipykernel_launcher.py:20: SettingWithCopyWarning: \n",
            "A value is trying to be set on a copy of a slice from a DataFrame.\n",
            "Try using .loc[row_indexer,col_indexer] = value instead\n",
            "\n",
            "See the caveats in the documentation: https://pandas.pydata.org/pandas-docs/stable/user_guide/indexing.html#returning-a-view-versus-a-copy\n",
            "/usr/local/lib/python3.7/dist-packages/pandas/core/frame.py:4174: SettingWithCopyWarning: \n",
            "A value is trying to be set on a copy of a slice from a DataFrame\n",
            "\n",
            "See the caveats in the documentation: https://pandas.pydata.org/pandas-docs/stable/user_guide/indexing.html#returning-a-view-versus-a-copy\n",
            "  errors=errors,\n"
          ],
          "name": "stderr"
        }
      ]
    },
    {
      "cell_type": "code",
      "metadata": {
        "id": "yJz0Olhdgglr"
      },
      "source": [
        "# import train_test_split function\n",
        "from sklearn.model_selection import train_test_split\n",
        "# import metrics\n",
        "from sklearn.metrics import mean_squared_error, r2_score\n"
      ],
      "execution_count": 8,
      "outputs": []
    },
    {
      "cell_type": "code",
      "metadata": {
        "id": "yyw2yVkgOc6t"
      },
      "source": [
        "from sklearn.preprocessing import StandardScaler"
      ],
      "execution_count": 9,
      "outputs": []
    },
    {
      "cell_type": "code",
      "metadata": {
        "id": "CIdBwFiMpFAV"
      },
      "source": [
        "\n",
        "def find_optimal_lm_mod(X, y, cutoffs, test_size = .30, random_state=42, plot=True):\n",
        "    '''\n",
        "    INPUT\n",
        "    X - pandas dataframe, X matrix\n",
        "    y - pandas dataframe, response variable\n",
        "    cutoffs - list of ints, cutoff for number of non-zero values in dummy categorical vars\n",
        "    test_size - float between 0 and 1, default 0.3, determines the proportion of data as test data\n",
        "    random_state - int, default 42, controls random state for train_test_split\n",
        "    plot - boolean, default 0.3, True to plot result\n",
        "\n",
        "    OUTPUT\n",
        "    r2_scores_test - list of floats of r2 scores on the test data\n",
        "    r2_scores_train - list of floats of r2 scores on the train data\n",
        "    lm_model - model object from sklearn\n",
        "    X_train, X_test, y_train, y_test - output from sklearn train test split used for optimal model\n",
        "    '''\n",
        "    r2_scores_test, r2_scores_train, num_feats, results = [], [], [], dict()\n",
        "    for cutoff in cutoffs:\n",
        "\n",
        "        #reduce X matrix\n",
        "        reduce_X = X.iloc[:, np.where((X.sum() > cutoff) == True)[0]]\n",
        "        num_feats.append(reduce_X.shape[1])\n",
        "\n",
        "        #split the data into train and test\n",
        "        X_train, X_test, y_train, y_test = train_test_split(reduce_X, y, test_size = test_size, random_state=random_state)\n",
        "\n",
        "        #fit the model and obtain pred response\n",
        "        lm_model = LinearRegression(normalize=True)\n",
        "        lm_model.fit(X_train, y_train)\n",
        "        y_test_preds = lm_model.predict(X_test)\n",
        "        y_train_preds = lm_model.predict(X_train)\n",
        "\n",
        "        #append the r2 value from the test set\n",
        "        r2_scores_test.append(r2_score(y_test, y_test_preds))\n",
        "        r2_scores_train.append(r2_score(y_train, y_train_preds))\n",
        "        results[str(cutoff)] = r2_score(y_test, y_test_preds)\n",
        "\n",
        "    if plot:\n",
        "        plt.plot(num_feats, r2_scores_test, label=\"Test\", alpha=.5)\n",
        "        plt.plot(num_feats, r2_scores_train, label=\"Train\", alpha=.5)\n",
        "        plt.xlabel('Number of Features')\n",
        "        plt.ylabel('Rsquared')\n",
        "        plt.title('Rsquared by Number of Features')\n",
        "        plt.legend(loc=1)\n",
        "        plt.show()\n",
        "\n",
        "    best_cutoff = max(results, key=results.get)\n",
        "\n",
        "    #reduce X matrix\n",
        "    reduce_X = X.iloc[:, np.where((X.sum() > int(best_cutoff)) == True)[0]]\n",
        "    num_feats.append(reduce_X.shape[1])\n",
        "\n",
        "    #split the data into train and test\n",
        "    X_train, X_test, y_train, y_test = train_test_split(reduce_X, y, test_size = test_size, random_state=random_state)\n",
        "\n",
        "    #fit the model\n",
        "    lm_model = LinearRegression(normalize=True)\n",
        "    lm_model.fit(X_train, y_train)\n",
        "\n",
        "    return reduce_X,r2_scores_test, r2_scores_train, lm_model, X_train, X_test, y_train, y_test"
      ],
      "execution_count": 16,
      "outputs": []
    },
    {
      "cell_type": "code",
      "metadata": {
        "colab": {
          "base_uri": "https://localhost:8080/",
          "height": 295
        },
        "id": "vUkJJwwQpPd1",
        "outputId": "cf874293-420f-44b5-bfd5-e56686e41ae8"
      },
      "source": [
        "cutoffs = [ 3000, 2500, 2000,1800,1200,1000,400,200,150, 100, 50, 30, 25,15,5]\n",
        "reduce_X,r2_scores_test, r2_scores_train, lm_model, X_train, X_test, y_train, y_test=find_optimal_lm_mod(X, y, cutoffs, test_size = .30, random_state=42, plot=True)\n",
        "   "
      ],
      "execution_count": 17,
      "outputs": [
        {
          "output_type": "display_data",
          "data": {
            "image/png": "[encoded data removed]",
            "text/plain": [
              "<Figure size 432x288 with 1 Axes>"
            ]
          },
          "metadata": {
            "tags": [],
            "needs_background": "light"
          }
        }
      ]
    },
    {
      "cell_type": "code",
      "metadata": {
        "colab": {
          "base_uri": "https://localhost:8080/"
        },
        "id": "Y6i3wxvCppiA",
        "outputId": "8b9adf4a-dae7-4cb6-e048-ec443d662b97"
      },
      "source": [
        "print(X_train.shape[1]) #Number of columns\n",
        "print(r2_scores_test[np.argmax(r2_scores_test)]) # The model we should implement test_r2\n",
        "print(r2_scores_train[np.argmax(r2_scores_test)]) # The model we should implement train_r2\n"
      ],
      "execution_count": 13,
      "outputs": [
        {
          "output_type": "stream",
          "text": [
            "35\n",
            "0.5280611757545224\n",
            "0.5905600174216361\n"
          ],
          "name": "stdout"
        }
      ]
    },
    {
      "cell_type": "code",
      "metadata": {
        "colab": {
          "base_uri": "https://localhost:8080/"
        },
        "id": "_b-KJXHctN6K",
        "outputId": "1f48b352-e7e6-429d-9a99-911d6a8c0476"
      },
      "source": [
        "type(X_train),type(y_train),type(X_test),type(y_test),type(reduce_X),type(lm_model.coef_)"
      ],
      "execution_count": 20,
      "outputs": [
        {
          "output_type": "execute_result",
          "data": {
            "text/plain": [
              "(pandas.core.frame.DataFrame,\n",
              " pandas.core.frame.DataFrame,\n",
              " pandas.core.frame.DataFrame,\n",
              " pandas.core.frame.DataFrame,\n",
              " pandas.core.frame.DataFrame,\n",
              " numpy.ndarray)"
            ]
          },
          "metadata": {
            "tags": []
          },
          "execution_count": 20
        }
      ]
    },
    {
      "cell_type": "code",
      "metadata": {
        "colab": {
          "base_uri": "https://localhost:8080/"
        },
        "id": "p10ucoALtsL6",
        "outputId": "79c9de0f-5347-4772-c3b1-e034b3e8f8d1"
      },
      "source": [
        "X_train.shape,y_train.shape,X_test.shape,y_test.shape,reduce_X.shape,lm_model.coef_.shape"
      ],
      "execution_count": 21,
      "outputs": [
        {
          "output_type": "execute_result",
          "data": {
            "text/plain": [
              "((2360, 35), (2360, 1), (1012, 35), (1012, 1), (3372, 35), (1, 35))"
            ]
          },
          "metadata": {
            "tags": []
          },
          "execution_count": 21
        }
      ]
    },
    {
      "cell_type": "code",
      "metadata": {
        "colab": {
          "base_uri": "https://localhost:8080/"
        },
        "id": "j_VWZTpzsyyy",
        "outputId": "b01635a8-2ef5-4f5e-dc49-5d364af70285"
      },
      "source": [
        "len(X_train.columns),len(y_train),len(X_test.columns),len(y_test),len(reduce_X.columns),len(lm_model.coef_)"
      ],
      "execution_count": 19,
      "outputs": [
        {
          "output_type": "execute_result",
          "data": {
            "text/plain": [
              "(35, 2360, 35, 1012, 35, 1)"
            ]
          },
          "metadata": {
            "tags": []
          },
          "execution_count": 19
        }
      ]
    },
    {
      "cell_type": "code",
      "metadata": {
        "colab": {
          "base_uri": "https://localhost:8080/",
          "height": 370
        },
        "id": "hi8yHvVlp5GF",
        "outputId": "846e81e9-b77a-43a0-a648-d7f50c32f47e"
      },
      "source": [
        "def coef_weights(coefficients, X_train):\n",
        "    '''\n",
        "    INPUT:\n",
        "    coefficients - the coefficients of the linear model \n",
        "    X_train - the training data, so the column names can be used\n",
        "    OUTPUT:\n",
        "    coefs_df - a dataframe holding the coefficient, estimate, and abs(estimate)\n",
        "    \n",
        "    Provides a dataframe that can be used to understand the most influential coefficients\n",
        "    in a linear model by providing the coefficient estimates along with the name of the \n",
        "    variable attached to the coefficient.\n",
        "    '''\n",
        "    coefs_df = pd.DataFrame()\n",
        "    coefs_df['est_int'] = X_train.columns\n",
        "    coefs_df['coefs'] = lm_model.coef_\n",
        "    coefs_df['abs_coefs'] = np.abs(lm_model.coef_)\n",
        "    coefs_df = coefs_df.sort_values('abs_coefs', ascending=False)\n",
        "    return coefs_df\n",
        "\n",
        "#Use the function\n",
        "coef_df = coef_weights(lm_model.coef_, X_train)\n",
        "\n",
        "#A quick look at the top results\n",
        "coef_df.head(20)"
      ],
      "execution_count": 14,
      "outputs": [
        {
          "output_type": "error",
          "ename": "ValueError",
          "evalue": "ignored",
          "traceback": [
            "\u001b[0;31m---------------------------------------------------------------------------\u001b[0m",
            "\u001b[0;31mValueError\u001b[0m                                Traceback (most recent call last)",
            "\u001b[0;32m<ipython-input-14-79a4d56fe42e>\u001b[0m in \u001b[0;36m<module>\u001b[0;34m()\u001b[0m\n\u001b[1;32m     19\u001b[0m \u001b[0;34m\u001b[0m\u001b[0m\n\u001b[1;32m     20\u001b[0m \u001b[0;31m#Use the function\u001b[0m\u001b[0;34m\u001b[0m\u001b[0;34m\u001b[0m\u001b[0;34m\u001b[0m\u001b[0m\n\u001b[0;32m---> 21\u001b[0;31m \u001b[0mcoef_df\u001b[0m \u001b[0;34m=\u001b[0m \u001b[0mcoef_weights\u001b[0m\u001b[0;34m(\u001b[0m\u001b[0mlm_model\u001b[0m\u001b[0;34m.\u001b[0m\u001b[0mcoef_\u001b[0m\u001b[0;34m,\u001b[0m \u001b[0mX_train\u001b[0m\u001b[0;34m)\u001b[0m\u001b[0;34m\u001b[0m\u001b[0;34m\u001b[0m\u001b[0m\n\u001b[0m\u001b[1;32m     22\u001b[0m \u001b[0;34m\u001b[0m\u001b[0m\n\u001b[1;32m     23\u001b[0m \u001b[0;31m#A quick look at the top results\u001b[0m\u001b[0;34m\u001b[0m\u001b[0;34m\u001b[0m\u001b[0;34m\u001b[0m\u001b[0m\n",
            "\u001b[0;32m<ipython-input-14-79a4d56fe42e>\u001b[0m in \u001b[0;36mcoef_weights\u001b[0;34m(coefficients, X_train)\u001b[0m\n\u001b[1;32m     13\u001b[0m     \u001b[0mcoefs_df\u001b[0m \u001b[0;34m=\u001b[0m \u001b[0mpd\u001b[0m\u001b[0;34m.\u001b[0m\u001b[0mDataFrame\u001b[0m\u001b[0;34m(\u001b[0m\u001b[0;34m)\u001b[0m\u001b[0;34m\u001b[0m\u001b[0;34m\u001b[0m\u001b[0m\n\u001b[1;32m     14\u001b[0m     \u001b[0mcoefs_df\u001b[0m\u001b[0;34m[\u001b[0m\u001b[0;34m'est_int'\u001b[0m\u001b[0;34m]\u001b[0m \u001b[0;34m=\u001b[0m \u001b[0mX_train\u001b[0m\u001b[0;34m.\u001b[0m\u001b[0mcolumns\u001b[0m\u001b[0;34m\u001b[0m\u001b[0;34m\u001b[0m\u001b[0m\n\u001b[0;32m---> 15\u001b[0;31m     \u001b[0mcoefs_df\u001b[0m\u001b[0;34m[\u001b[0m\u001b[0;34m'coefs'\u001b[0m\u001b[0;34m]\u001b[0m \u001b[0;34m=\u001b[0m \u001b[0mlm_model\u001b[0m\u001b[0;34m.\u001b[0m\u001b[0mcoef_\u001b[0m\u001b[0;34m\u001b[0m\u001b[0;34m\u001b[0m\u001b[0m\n\u001b[0m\u001b[1;32m     16\u001b[0m     \u001b[0mcoefs_df\u001b[0m\u001b[0;34m[\u001b[0m\u001b[0;34m'abs_coefs'\u001b[0m\u001b[0;34m]\u001b[0m \u001b[0;34m=\u001b[0m \u001b[0mnp\u001b[0m\u001b[0;34m.\u001b[0m\u001b[0mabs\u001b[0m\u001b[0;34m(\u001b[0m\u001b[0mlm_model\u001b[0m\u001b[0;34m.\u001b[0m\u001b[0mcoef_\u001b[0m\u001b[0;34m)\u001b[0m\u001b[0;34m\u001b[0m\u001b[0;34m\u001b[0m\u001b[0m\n\u001b[1;32m     17\u001b[0m     \u001b[0mcoefs_df\u001b[0m \u001b[0;34m=\u001b[0m \u001b[0mcoefs_df\u001b[0m\u001b[0;34m.\u001b[0m\u001b[0msort_values\u001b[0m\u001b[0;34m(\u001b[0m\u001b[0;34m'abs_coefs'\u001b[0m\u001b[0;34m,\u001b[0m \u001b[0mascending\u001b[0m\u001b[0;34m=\u001b[0m\u001b[0;32mFalse\u001b[0m\u001b[0;34m)\u001b[0m\u001b[0;34m\u001b[0m\u001b[0;34m\u001b[0m\u001b[0m\n",
            "\u001b[0;32m/usr/local/lib/python3.7/dist-packages/pandas/core/frame.py\u001b[0m in \u001b[0;36m__setitem__\u001b[0;34m(self, key, value)\u001b[0m\n\u001b[1;32m   3042\u001b[0m         \u001b[0;32melse\u001b[0m\u001b[0;34m:\u001b[0m\u001b[0;34m\u001b[0m\u001b[0;34m\u001b[0m\u001b[0m\n\u001b[1;32m   3043\u001b[0m             \u001b[0;31m# set column\u001b[0m\u001b[0;34m\u001b[0m\u001b[0;34m\u001b[0m\u001b[0;34m\u001b[0m\u001b[0m\n\u001b[0;32m-> 3044\u001b[0;31m             \u001b[0mself\u001b[0m\u001b[0;34m.\u001b[0m\u001b[0m_set_item\u001b[0m\u001b[0;34m(\u001b[0m\u001b[0mkey\u001b[0m\u001b[0;34m,\u001b[0m \u001b[0mvalue\u001b[0m\u001b[0;34m)\u001b[0m\u001b[0;34m\u001b[0m\u001b[0;34m\u001b[0m\u001b[0m\n\u001b[0m\u001b[1;32m   3045\u001b[0m \u001b[0;34m\u001b[0m\u001b[0m\n\u001b[1;32m   3046\u001b[0m     \u001b[0;32mdef\u001b[0m \u001b[0m_setitem_slice\u001b[0m\u001b[0;34m(\u001b[0m\u001b[0mself\u001b[0m\u001b[0;34m,\u001b[0m \u001b[0mkey\u001b[0m\u001b[0;34m:\u001b[0m \u001b[0mslice\u001b[0m\u001b[0;34m,\u001b[0m \u001b[0mvalue\u001b[0m\u001b[0;34m)\u001b[0m\u001b[0;34m:\u001b[0m\u001b[0;34m\u001b[0m\u001b[0;34m\u001b[0m\u001b[0m\n",
            "\u001b[0;32m/usr/local/lib/python3.7/dist-packages/pandas/core/frame.py\u001b[0m in \u001b[0;36m_set_item\u001b[0;34m(self, key, value)\u001b[0m\n\u001b[1;32m   3118\u001b[0m         \"\"\"\n\u001b[1;32m   3119\u001b[0m         \u001b[0mself\u001b[0m\u001b[0;34m.\u001b[0m\u001b[0m_ensure_valid_index\u001b[0m\u001b[0;34m(\u001b[0m\u001b[0mvalue\u001b[0m\u001b[0;34m)\u001b[0m\u001b[0;34m\u001b[0m\u001b[0;34m\u001b[0m\u001b[0m\n\u001b[0;32m-> 3120\u001b[0;31m         \u001b[0mvalue\u001b[0m \u001b[0;34m=\u001b[0m \u001b[0mself\u001b[0m\u001b[0;34m.\u001b[0m\u001b[0m_sanitize_column\u001b[0m\u001b[0;34m(\u001b[0m\u001b[0mkey\u001b[0m\u001b[0;34m,\u001b[0m \u001b[0mvalue\u001b[0m\u001b[0;34m)\u001b[0m\u001b[0;34m\u001b[0m\u001b[0;34m\u001b[0m\u001b[0m\n\u001b[0m\u001b[1;32m   3121\u001b[0m         \u001b[0mNDFrame\u001b[0m\u001b[0;34m.\u001b[0m\u001b[0m_set_item\u001b[0m\u001b[0;34m(\u001b[0m\u001b[0mself\u001b[0m\u001b[0;34m,\u001b[0m \u001b[0mkey\u001b[0m\u001b[0;34m,\u001b[0m \u001b[0mvalue\u001b[0m\u001b[0;34m)\u001b[0m\u001b[0;34m\u001b[0m\u001b[0;34m\u001b[0m\u001b[0m\n\u001b[1;32m   3122\u001b[0m \u001b[0;34m\u001b[0m\u001b[0m\n",
            "\u001b[0;32m/usr/local/lib/python3.7/dist-packages/pandas/core/frame.py\u001b[0m in \u001b[0;36m_sanitize_column\u001b[0;34m(self, key, value, broadcast)\u001b[0m\n\u001b[1;32m   3766\u001b[0m \u001b[0;34m\u001b[0m\u001b[0m\n\u001b[1;32m   3767\u001b[0m             \u001b[0;31m# turn me into an ndarray\u001b[0m\u001b[0;34m\u001b[0m\u001b[0;34m\u001b[0m\u001b[0;34m\u001b[0m\u001b[0m\n\u001b[0;32m-> 3768\u001b[0;31m             \u001b[0mvalue\u001b[0m \u001b[0;34m=\u001b[0m \u001b[0msanitize_index\u001b[0m\u001b[0;34m(\u001b[0m\u001b[0mvalue\u001b[0m\u001b[0;34m,\u001b[0m \u001b[0mself\u001b[0m\u001b[0;34m.\u001b[0m\u001b[0mindex\u001b[0m\u001b[0;34m)\u001b[0m\u001b[0;34m\u001b[0m\u001b[0;34m\u001b[0m\u001b[0m\n\u001b[0m\u001b[1;32m   3769\u001b[0m             \u001b[0;32mif\u001b[0m \u001b[0;32mnot\u001b[0m \u001b[0misinstance\u001b[0m\u001b[0;34m(\u001b[0m\u001b[0mvalue\u001b[0m\u001b[0;34m,\u001b[0m \u001b[0;34m(\u001b[0m\u001b[0mnp\u001b[0m\u001b[0;34m.\u001b[0m\u001b[0mndarray\u001b[0m\u001b[0;34m,\u001b[0m \u001b[0mIndex\u001b[0m\u001b[0;34m)\u001b[0m\u001b[0;34m)\u001b[0m\u001b[0;34m:\u001b[0m\u001b[0;34m\u001b[0m\u001b[0;34m\u001b[0m\u001b[0m\n\u001b[1;32m   3770\u001b[0m                 \u001b[0;32mif\u001b[0m \u001b[0misinstance\u001b[0m\u001b[0;34m(\u001b[0m\u001b[0mvalue\u001b[0m\u001b[0;34m,\u001b[0m \u001b[0mlist\u001b[0m\u001b[0;34m)\u001b[0m \u001b[0;32mand\u001b[0m \u001b[0mlen\u001b[0m\u001b[0;34m(\u001b[0m\u001b[0mvalue\u001b[0m\u001b[0;34m)\u001b[0m \u001b[0;34m>\u001b[0m \u001b[0;36m0\u001b[0m\u001b[0;34m:\u001b[0m\u001b[0;34m\u001b[0m\u001b[0;34m\u001b[0m\u001b[0m\n",
            "\u001b[0;32m/usr/local/lib/python3.7/dist-packages/pandas/core/internals/construction.py\u001b[0m in \u001b[0;36msanitize_index\u001b[0;34m(data, index)\u001b[0m\n\u001b[1;32m    746\u001b[0m     \u001b[0;32mif\u001b[0m \u001b[0mlen\u001b[0m\u001b[0;34m(\u001b[0m\u001b[0mdata\u001b[0m\u001b[0;34m)\u001b[0m \u001b[0;34m!=\u001b[0m \u001b[0mlen\u001b[0m\u001b[0;34m(\u001b[0m\u001b[0mindex\u001b[0m\u001b[0;34m)\u001b[0m\u001b[0;34m:\u001b[0m\u001b[0;34m\u001b[0m\u001b[0;34m\u001b[0m\u001b[0m\n\u001b[1;32m    747\u001b[0m         raise ValueError(\n\u001b[0;32m--> 748\u001b[0;31m             \u001b[0;34m\"Length of values \"\u001b[0m\u001b[0;34m\u001b[0m\u001b[0;34m\u001b[0m\u001b[0m\n\u001b[0m\u001b[1;32m    749\u001b[0m             \u001b[0;34mf\"({len(data)}) \"\u001b[0m\u001b[0;34m\u001b[0m\u001b[0;34m\u001b[0m\u001b[0m\n\u001b[1;32m    750\u001b[0m             \u001b[0;34m\"does not match length of index \"\u001b[0m\u001b[0;34m\u001b[0m\u001b[0;34m\u001b[0m\u001b[0m\n",
            "\u001b[0;31mValueError\u001b[0m: Length of values (1) does not match length of index (35)"
          ]
        }
      ]
    },
    {
      "cell_type": "code",
      "metadata": {
        "id": "ao-_k6S-ppqY"
      },
      "source": [
        ""
      ],
      "execution_count": null,
      "outputs": []
    }
  ]
}