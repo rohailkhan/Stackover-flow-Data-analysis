{
  "nbformat": 4,
  "nbformat_minor": 0,
  "metadata": {
    "kernelspec": {
      "name": "python383jvsc74a57bd08d86c190dfcadcdaa67edec4a1ea82702241987b5b1f320c920d3d4ca36fee5b",
      "display_name": "Python 3.8.3 64-bit ('base': conda)"
    },
    "language_info": {
      "codemirror_mode": {
        "name": "ipython",
        "version": 3
      },
      "file_extension": ".py",
      "mimetype": "text/x-python",
      "name": "python",
      "nbconvert_exporter": "python",
      "pygments_lexer": "ipython3",
      "version": "3.8.3"
    },
    "colab": {
      "name": "Seattle Airbnb Data Analysis.ipynb",
      "provenance": [],
      "include_colab_link": true
    },
    "accelerator": "GPU"
  },
  "cells": [
    {
      "cell_type": "markdown",
      "metadata": {
        "id": "view-in-github",
        "colab_type": "text"
      },
      "source": [
        "<a href=\"https://colab.research.google.com/github/rohailkhan/Stackover-flow-Data-analysis/blob/master/Seattle_Airbnb_Data_Analysis.ipynb\" target=\"_parent\"><img src=\"https://colab.research.google.com/assets/colab-badge.svg\" alt=\"Open In Colab\"/></a>"
      ]
    },
    {
      "cell_type": "code",
      "metadata": {
        "id": "RmVUxcD557KP"
      },
      "source": [
        "import numpy as np\n",
        "import pandas as pd\n",
        "import matplotlib.pyplot as plt\n",
        "from sklearn.linear_model import LinearRegression\n",
        "from sklearn.model_selection import train_test_split\n",
        "from sklearn.metrics import r2_score, mean_squared_error\n",
        "#import test1 as t\n",
        "import seaborn as sns\n",
        "%matplotlib inline\n"
      ],
      "execution_count": 1,
      "outputs": []
    },
    {
      "cell_type": "code",
      "metadata": {
        "colab": {
          "base_uri": "https://localhost:8080/"
        },
        "id": "tMy15mnn6Ekp",
        "outputId": "ca6bb917-05f8-4e13-c968-0e6e94504320"
      },
      "source": [
        "from google.colab import drive\n",
        "drive.mount('/content/drive')"
      ],
      "execution_count": 4,
      "outputs": [
        {
          "output_type": "stream",
          "text": [
            "Mounted at /content/drive\n"
          ],
          "name": "stdout"
        }
      ]
    },
    {
      "cell_type": "code",
      "metadata": {
        "id": "BDPCX7GG57K2"
      },
      "source": [
        "pd.set_option(\"display.max_columns\", None)"
      ],
      "execution_count": 3,
      "outputs": []
    },
    {
      "cell_type": "code",
      "metadata": {
        "id": "7k3TcoXW57K8"
      },
      "source": [
        "calendar=pd.read_csv('/content/drive/MyDrive/A Udacity Data scientist/Lesson 1/calendar.csv')\n",
        "listings=pd.read_csv('/content/drive/MyDrive/A Udacity Data scientist/Lesson 1/listings.csv')\n",
        "reviews=pd.read_csv('/content/drive/MyDrive/A Udacity Data scientist/Lesson 1/reviews.csv')"
      ],
      "execution_count": 5,
      "outputs": []
    },
    {
      "cell_type": "code",
      "metadata": {
        "id": "PSQlXRD9bEu4"
      },
      "source": [
        "\n",
        "#'property_type', 'room_type', 'bed_type' ,'size'\n",
        "# ans NO:  ,'size'\n",
        "# 'Family_kid_friendly', 'Host_greets_you', 'Smoking_allowed' # None present\n",
        "columns_to_keep=['id',\n",
        " 'host_location',\n",
        "  'host_neighbourhood',\n",
        " 'host_has_profile_pic',\n",
        " 'host_identity_verified',\n",
        " 'neighbourhood',\n",
        " 'neighbourhood_cleansed',\n",
        " 'neighbourhood_group_cleansed',\n",
        " 'city','price',\n",
        " 'state',\n",
        " 'latitude',\n",
        " 'longitude',\n",
        " 'is_location_exact',\n",
        " 'property_type',\n",
        " ##\n",
        " 'room_type', 'bed_type',##\n",
        " 'accommodates',\n",
        " 'bathrooms',\n",
        " 'bedrooms',\n",
        " 'amenities',\n",
        " 'cleaning_fee',\n",
        " 'guests_included',\n",
        " 'extra_people',\n",
        " 'minimum_nights',\n",
        " 'maximum_nights',\n",
        " 'review_scores_rating',\n",
        " 'review_scores_cleanliness',\n",
        " 'review_scores_location',\n",
        " 'cancellation_policy']"
      ],
      "execution_count": 6,
      "outputs": []
    },
    {
      "cell_type": "code",
      "metadata": {
        "id": "sMKrVKHRf0Iq"
      },
      "source": [
        "def clean_listings(df):\n",
        "    df=df[columns_to_keep]\n",
        "    change_to_float_columns=['cleaning_fee','extra_people', 'price']\n",
        "    for col in change_to_float_columns:\n",
        "        df[col]=df[col].str.replace(\"$\",\"\").str.replace(\",\",\"\").str.replace(\"%\",\"\").astype(float).copy()\n",
        "    fill_mean_columns=['cleaning_fee','review_scores_rating','review_scores_cleanliness','review_scores_location']\n",
        "    for col in fill_mean_columns:\n",
        "        df[col]=df[col].fillna(df[col].mean())\n",
        "    outlier_columns=['price', 'extra_people', 'cleaning_fee','bathrooms','bedrooms']\n",
        "    for col in outlier_columns:\n",
        "        df[col]=np.where(df[col]>df[col].quantile(0.80),df[col].quantile(0.80),df[col])\n",
        "    # dropping small number of null values for numeric columns\n",
        "    df.dropna(subset=['bathrooms', 'bedrooms'], inplace=True)\n",
        "    # dropping small number of null values for object columns\n",
        "    df.dropna(subset=['host_neighbourhood','host_location','host_has_profile_pic','host_identity_verified','property_type','neighbourhood'], inplace=True)\n",
        "    df['amenities']=df['amenities'].str.strip('{}').str.replace('\"','').str.split(',')\n",
        "    h=[]\n",
        "    for i in df.amenities:\n",
        "        h.append(len(i))\n",
        "    df['amenities_number']=h\n",
        "    \n",
        "    df.drop(columns=['id','amenities'],inplace=True)\n",
        "    ## making dummy variables for categorical data\n",
        "    \n",
        "    # for col in categorical_features:\n",
        "    #     try:\n",
        "    #         df=pd.concat([df.drop(col,axis=1)  , pd.get_dummis(df[var], prefix=var, prefix_sep='_', drop_first=True)], axis=1)\n",
        "    #     except:\n",
        "    #         continue\n",
        "    categorical_features=df.select_dtypes(include=['object']).columns\n",
        "    for col in categorical_features:\n",
        "        df=pd.concat([df.drop(col,axis=1)  , pd.get_dummies(df[col], prefix=col, prefix_sep='_', drop_first=True)], axis=1)\n",
        "    X=df.drop(['price'],axis=1)\n",
        "    y=df[['price']]\n",
        "    \n",
        "    return X,y,df\n"
      ],
      "execution_count": 7,
      "outputs": []
    },
    {
      "cell_type": "code",
      "metadata": {
        "colab": {
          "base_uri": "https://localhost:8080/"
        },
        "id": "Z29JGAyvf0Tn",
        "outputId": "551823d7-7c31-4f81-e665-5e142552c760"
      },
      "source": [
        "X,y,df=clean_listings(listings)"
      ],
      "execution_count": 8,
      "outputs": [
        {
          "output_type": "stream",
          "text": [
            "/usr/local/lib/python3.7/dist-packages/ipykernel_launcher.py:5: SettingWithCopyWarning: \n",
            "A value is trying to be set on a copy of a slice from a DataFrame.\n",
            "Try using .loc[row_indexer,col_indexer] = value instead\n",
            "\n",
            "See the caveats in the documentation: https://pandas.pydata.org/pandas-docs/stable/user_guide/indexing.html#returning-a-view-versus-a-copy\n",
            "  \"\"\"\n",
            "/usr/local/lib/python3.7/dist-packages/ipykernel_launcher.py:8: SettingWithCopyWarning: \n",
            "A value is trying to be set on a copy of a slice from a DataFrame.\n",
            "Try using .loc[row_indexer,col_indexer] = value instead\n",
            "\n",
            "See the caveats in the documentation: https://pandas.pydata.org/pandas-docs/stable/user_guide/indexing.html#returning-a-view-versus-a-copy\n",
            "  \n",
            "/usr/local/lib/python3.7/dist-packages/ipykernel_launcher.py:11: SettingWithCopyWarning: \n",
            "A value is trying to be set on a copy of a slice from a DataFrame.\n",
            "Try using .loc[row_indexer,col_indexer] = value instead\n",
            "\n",
            "See the caveats in the documentation: https://pandas.pydata.org/pandas-docs/stable/user_guide/indexing.html#returning-a-view-versus-a-copy\n",
            "  # This is added back by InteractiveShellApp.init_path()\n",
            "/usr/local/lib/python3.7/dist-packages/ipykernel_launcher.py:11: SettingWithCopyWarning: \n",
            "A value is trying to be set on a copy of a slice from a DataFrame.\n",
            "Try using .loc[row_indexer,col_indexer] = value instead\n",
            "\n",
            "See the caveats in the documentation: https://pandas.pydata.org/pandas-docs/stable/user_guide/indexing.html#returning-a-view-versus-a-copy\n",
            "  # This is added back by InteractiveShellApp.init_path()\n",
            "/usr/local/lib/python3.7/dist-packages/ipykernel_launcher.py:11: SettingWithCopyWarning: \n",
            "A value is trying to be set on a copy of a slice from a DataFrame.\n",
            "Try using .loc[row_indexer,col_indexer] = value instead\n",
            "\n",
            "See the caveats in the documentation: https://pandas.pydata.org/pandas-docs/stable/user_guide/indexing.html#returning-a-view-versus-a-copy\n",
            "  # This is added back by InteractiveShellApp.init_path()\n",
            "/usr/local/lib/python3.7/dist-packages/ipykernel_launcher.py:11: SettingWithCopyWarning: \n",
            "A value is trying to be set on a copy of a slice from a DataFrame.\n",
            "Try using .loc[row_indexer,col_indexer] = value instead\n",
            "\n",
            "See the caveats in the documentation: https://pandas.pydata.org/pandas-docs/stable/user_guide/indexing.html#returning-a-view-versus-a-copy\n",
            "  # This is added back by InteractiveShellApp.init_path()\n",
            "/usr/local/lib/python3.7/dist-packages/ipykernel_launcher.py:11: SettingWithCopyWarning: \n",
            "A value is trying to be set on a copy of a slice from a DataFrame.\n",
            "Try using .loc[row_indexer,col_indexer] = value instead\n",
            "\n",
            "See the caveats in the documentation: https://pandas.pydata.org/pandas-docs/stable/user_guide/indexing.html#returning-a-view-versus-a-copy\n",
            "  # This is added back by InteractiveShellApp.init_path()\n",
            "/usr/local/lib/python3.7/dist-packages/ipykernel_launcher.py:13: SettingWithCopyWarning: \n",
            "A value is trying to be set on a copy of a slice from a DataFrame\n",
            "\n",
            "See the caveats in the documentation: https://pandas.pydata.org/pandas-docs/stable/user_guide/indexing.html#returning-a-view-versus-a-copy\n",
            "  del sys.path[0]\n",
            "/usr/local/lib/python3.7/dist-packages/ipykernel_launcher.py:15: SettingWithCopyWarning: \n",
            "A value is trying to be set on a copy of a slice from a DataFrame\n",
            "\n",
            "See the caveats in the documentation: https://pandas.pydata.org/pandas-docs/stable/user_guide/indexing.html#returning-a-view-versus-a-copy\n",
            "  from ipykernel import kernelapp as app\n",
            "/usr/local/lib/python3.7/dist-packages/ipykernel_launcher.py:16: SettingWithCopyWarning: \n",
            "A value is trying to be set on a copy of a slice from a DataFrame.\n",
            "Try using .loc[row_indexer,col_indexer] = value instead\n",
            "\n",
            "See the caveats in the documentation: https://pandas.pydata.org/pandas-docs/stable/user_guide/indexing.html#returning-a-view-versus-a-copy\n",
            "  app.launch_new_instance()\n",
            "/usr/local/lib/python3.7/dist-packages/ipykernel_launcher.py:20: SettingWithCopyWarning: \n",
            "A value is trying to be set on a copy of a slice from a DataFrame.\n",
            "Try using .loc[row_indexer,col_indexer] = value instead\n",
            "\n",
            "See the caveats in the documentation: https://pandas.pydata.org/pandas-docs/stable/user_guide/indexing.html#returning-a-view-versus-a-copy\n",
            "/usr/local/lib/python3.7/dist-packages/pandas/core/frame.py:4174: SettingWithCopyWarning: \n",
            "A value is trying to be set on a copy of a slice from a DataFrame\n",
            "\n",
            "See the caveats in the documentation: https://pandas.pydata.org/pandas-docs/stable/user_guide/indexing.html#returning-a-view-versus-a-copy\n",
            "  errors=errors,\n"
          ],
          "name": "stderr"
        }
      ]
    },
    {
      "cell_type": "code",
      "metadata": {
        "id": "yJz0Olhdgglr"
      },
      "source": [
        "# import train_test_split function\n",
        "from sklearn.model_selection import train_test_split\n",
        "# import metrics\n",
        "from sklearn.metrics import mean_squared_error, r2_score\n"
      ],
      "execution_count": 13,
      "outputs": []
    },
    {
      "cell_type": "code",
      "metadata": {
        "id": "yyw2yVkgOc6t"
      },
      "source": [
        "from sklearn.preprocessing import StandardScaler"
      ],
      "execution_count": 10,
      "outputs": []
    },
    {
      "cell_type": "code",
      "metadata": {
        "id": "CIdBwFiMpFAV"
      },
      "source": [
        "\n",
        "def find_optimal_lm_mod(X, y, cutoffs, test_size = .30, random_state=42, plot=True):\n",
        "    '''\n",
        "    INPUT\n",
        "    X - pandas dataframe, X matrix\n",
        "    y - pandas dataframe, response variable\n",
        "    cutoffs - list of ints, cutoff for number of non-zero values in dummy categorical vars\n",
        "    test_size - float between 0 and 1, default 0.3, determines the proportion of data as test data\n",
        "    random_state - int, default 42, controls random state for train_test_split\n",
        "    plot - boolean, default 0.3, True to plot result\n",
        "\n",
        "    OUTPUT\n",
        "    r2_scores_test - list of floats of r2 scores on the test data\n",
        "    r2_scores_train - list of floats of r2 scores on the train data\n",
        "    lm_model - model object from sklearn\n",
        "    X_train, X_test, y_train, y_test - output from sklearn train test split used for optimal model\n",
        "    '''\n",
        "    r2_scores_test, r2_scores_train, num_feats, results = [], [], [], dict()\n",
        "    for cutoff in cutoffs:\n",
        "\n",
        "        #reduce X matrix\n",
        "        reduce_X = X.iloc[:, np.where((X.sum() > cutoff) == True)[0]]\n",
        "        num_feats.append(reduce_X.shape[1])\n",
        "\n",
        "        #split the data into train and test\n",
        "        X_train, X_test, y_train, y_test = train_test_split(reduce_X, y, test_size = test_size, random_state=random_state)\n",
        "\n",
        "        #fit the model and obtain pred response\n",
        "        lm_model = LinearRegression(normalize=True)\n",
        "        lm_model.fit(X_train, y_train)\n",
        "        y_test_preds = lm_model.predict(X_test)\n",
        "        y_train_preds = lm_model.predict(X_train)\n",
        "\n",
        "        #append the r2 value from the test set\n",
        "        r2_scores_test.append(r2_score(y_test, y_test_preds))\n",
        "        r2_scores_train.append(r2_score(y_train, y_train_preds))\n",
        "        results[str(cutoff)] = r2_score(y_test, y_test_preds)\n",
        "\n",
        "    if plot:\n",
        "        plt.plot(num_feats, r2_scores_test, label=\"Test\", alpha=.5)\n",
        "        plt.plot(num_feats, r2_scores_train, label=\"Train\", alpha=.5)\n",
        "        plt.xlabel('Number of Features')\n",
        "        plt.ylabel('Rsquared')\n",
        "        plt.title('Rsquared by Number of Features')\n",
        "        plt.legend(loc=1)\n",
        "        plt.show()\n",
        "\n",
        "    best_cutoff = max(results, key=results.get)\n",
        "\n",
        "    #reduce X matrix\n",
        "    reduce_X = X.iloc[:, np.where((X.sum() > int(best_cutoff)) == True)[0]]\n",
        "    num_feats.append(reduce_X.shape[1])\n",
        "\n",
        "    #split the data into train and test\n",
        "    X_train, X_test, y_train, y_test = train_test_split(reduce_X, y, test_size = test_size, random_state=random_state)\n",
        "\n",
        "    #fit the model\n",
        "    lm_model = LinearRegression(normalize=True)\n",
        "    lm_model.fit(X_train, y_train)\n",
        "\n",
        "    return best_cutoff, reduce_X ,r2_scores_test , r2_scores_train , lm_model , X_train , X_test , y_train, y_test"
      ],
      "execution_count": 14,
      "outputs": []
    },
    {
      "cell_type": "code",
      "metadata": {
        "colab": {
          "base_uri": "https://localhost:8080/",
          "height": 295
        },
        "id": "vUkJJwwQpPd1",
        "outputId": "a1abcb1c-de3b-454f-a56e-8aa48a0ff260"
      },
      "source": [
        "cutoffs = [ 3000, 2500, 2000,1800,1200,1000,400,250,200,150, 100, 50, 30]\n",
        "best_cutoff, reduce_X ,r2_scores_test , r2_scores_train , lm_model , X_train , X_test , y_train, y_test=find_optimal_lm_mod(X, y, cutoffs, test_size = .30, random_state=42, plot=True)\n",
        "   "
      ],
      "execution_count": 15,
      "outputs": [
        {
          "output_type": "display_data",
          "data": {
            "image/png": "[encoded data removed]",
            "text/plain": [
              "<Figure size 432x288 with 1 Axes>"
            ]
          },
          "metadata": {
            "tags": [],
            "needs_background": "light"
          }
        }
      ]
    },
    {
      "cell_type": "code",
      "metadata": {
        "colab": {
          "base_uri": "https://localhost:8080/",
          "height": 35
        },
        "id": "0LFHmAnsLEwE",
        "outputId": "add55cdc-bf6d-4a82-a2db-02e63c311479"
      },
      "source": [
        "best_cutoff"
      ],
      "execution_count": 16,
      "outputs": [
        {
          "output_type": "execute_result",
          "data": {
            "application/vnd.google.colaboratory.intrinsic+json": {
              "type": "string"
            },
            "text/plain": [
              "'200'"
            ]
          },
          "metadata": {
            "tags": []
          },
          "execution_count": 16
        }
      ]
    },
    {
      "cell_type": "code",
      "metadata": {
        "colab": {
          "base_uri": "https://localhost:8080/"
        },
        "id": "Y6i3wxvCppiA",
        "outputId": "64599428-b258-4ab0-d4c7-a9b1b9d7b411"
      },
      "source": [
        "print(X_train.shape[1]) #Number of columns\n",
        "print(r2_scores_train[np.argmax(r2_scores_test)]) # The model we should implement train_r2\n",
        "print(r2_scores_test[np.argmax(r2_scores_test)]) # The model we should implement test_r2\n",
        "\n"
      ],
      "execution_count": 17,
      "outputs": [
        {
          "output_type": "stream",
          "text": [
            "35\n",
            "0.5905600174216361\n",
            "0.5280611757545224\n"
          ],
          "name": "stdout"
        }
      ]
    },
    {
      "cell_type": "code",
      "metadata": {
        "colab": {
          "base_uri": "https://localhost:8080/"
        },
        "id": "_b-KJXHctN6K",
        "outputId": "cac4b325-31b9-49d1-aa13-69ee098cf230"
      },
      "source": [
        "type(X_train),type(y_train),type(X_test),type(y_test),type(reduce_X),type(lm_model.coef_)"
      ],
      "execution_count": 12,
      "outputs": [
        {
          "output_type": "execute_result",
          "data": {
            "text/plain": [
              "(pandas.core.frame.DataFrame,\n",
              " pandas.core.frame.DataFrame,\n",
              " pandas.core.frame.DataFrame,\n",
              " pandas.core.frame.DataFrame,\n",
              " pandas.core.frame.DataFrame,\n",
              " numpy.ndarray)"
            ]
          },
          "metadata": {
            "tags": []
          },
          "execution_count": 12
        }
      ]
    },
    {
      "cell_type": "code",
      "metadata": {
        "colab": {
          "base_uri": "https://localhost:8080/"
        },
        "id": "p10ucoALtsL6",
        "outputId": "d5280dbf-f46c-4577-f7b1-f2d010837e1a"
      },
      "source": [
        "X_train.shape,y_train.shape,X_test.shape,y_test.shape,reduce_X.shape,lm_model.coef_.shape"
      ],
      "execution_count": 13,
      "outputs": [
        {
          "output_type": "execute_result",
          "data": {
            "text/plain": [
              "((2360, 35), (2360, 1), (1012, 35), (1012, 1), (3372, 35), (1, 35))"
            ]
          },
          "metadata": {
            "tags": []
          },
          "execution_count": 13
        }
      ]
    },
    {
      "cell_type": "code",
      "metadata": {
        "colab": {
          "base_uri": "https://localhost:8080/"
        },
        "id": "j_VWZTpzsyyy",
        "outputId": "b01635a8-2ef5-4f5e-dc49-5d364af70285"
      },
      "source": [
        "len(X_train.columns),len(y_train),len(X_test.columns),len(y_test),len(reduce_X.columns),len(lm_model.coef_)"
      ],
      "execution_count": 19,
      "outputs": [
        {
          "output_type": "execute_result",
          "data": {
            "text/plain": [
              "(35, 2360, 35, 1012, 35, 1)"
            ]
          },
          "metadata": {
            "tags": []
          },
          "execution_count": 19
        }
      ]
    },
    {
      "cell_type": "code",
      "metadata": {
        "id": "_NO2m6ovJ83D"
      },
      "source": [
        "  y_test_preds = lm_model.predict(X_test)"
      ],
      "execution_count": 18,
      "outputs": []
    },
    {
      "cell_type": "code",
      "metadata": {
        "colab": {
          "base_uri": "https://localhost:8080/"
        },
        "id": "OkUJOgcDJky5",
        "outputId": "2169f297-c66a-43a0-928e-ca76b15aa77b"
      },
      "source": [
        "from sklearn.metrics import mean_squared_error\n",
        "mean_squared_error(y_test, y_test_preds, squared=False)"
      ],
      "execution_count": 19,
      "outputs": [
        {
          "output_type": "execute_result",
          "data": {
            "text/plain": [
              "28.824713194787115"
            ]
          },
          "metadata": {
            "tags": []
          },
          "execution_count": 19
        }
      ]
    },
    {
      "cell_type": "code",
      "metadata": {
        "colab": {
          "base_uri": "https://localhost:8080/",
          "height": 648
        },
        "id": "hi8yHvVlp5GF",
        "outputId": "abd637fd-b7c3-42dd-a79e-b8ad0a56a6ad"
      },
      "source": [
        "def coef_weights(coefficients, X_train):\n",
        "    '''\n",
        "    INPUT:\n",
        "    coefficients - the coefficients of the linear model \n",
        "    X_train - the training data, so the column names can be used\n",
        "    OUTPUT:\n",
        "    coefs_df - a dataframe holding the coefficient, estimate, and abs(estimate)\n",
        "    \n",
        "    Provides a dataframe that can be used to understand the most influential coefficients\n",
        "    in a linear model by providing the coefficient estimates along with the name of the \n",
        "    variable attached to the coefficient.\n",
        "    '''\n",
        "    coefs_df = pd.DataFrame()\n",
        "    coefs_df['est_int'] = X_train.columns\n",
        "    coefs_df['coefs'] = lm_model.coef_.T\n",
        "    coefs_df['abs_coefs'] = np.abs(lm_model.coef_.T)\n",
        "    coefs_df = coefs_df.sort_values('abs_coefs', ascending=False)\n",
        "    return coefs_df\n",
        "\n",
        "#Use the function\n",
        "coef_df = coef_weights(lm_model.coef_, X_train)\n",
        "\n",
        "#A quick look at the top results\n",
        "coef_df.head(20)"
      ],
      "execution_count": 26,
      "outputs": [
        {
          "output_type": "execute_result",
          "data": {
            "text/html": [
              "<div>\n",
              "<style scoped>\n",
              "    .dataframe tbody tr th:only-of-type {\n",
              "        vertical-align: middle;\n",
              "    }\n",
              "\n",
              "    .dataframe tbody tr th {\n",
              "        vertical-align: top;\n",
              "    }\n",
              "\n",
              "    .dataframe thead th {\n",
              "        text-align: right;\n",
              "    }\n",
              "</style>\n",
              "<table border=\"1\" class=\"dataframe\">\n",
              "  <thead>\n",
              "    <tr style=\"text-align: right;\">\n",
              "      <th></th>\n",
              "      <th>est_int</th>\n",
              "      <th>coefs</th>\n",
              "      <th>abs_coefs</th>\n",
              "    </tr>\n",
              "  </thead>\n",
              "  <tbody>\n",
              "    <tr>\n",
              "      <th>20</th>\n",
              "      <td>neighbourhood_Capitol Hill</td>\n",
              "      <td>46.571412</td>\n",
              "      <td>46.571412</td>\n",
              "    </tr>\n",
              "    <tr>\n",
              "      <th>28</th>\n",
              "      <td>city_Seattle</td>\n",
              "      <td>45.133119</td>\n",
              "      <td>45.133119</td>\n",
              "    </tr>\n",
              "    <tr>\n",
              "      <th>16</th>\n",
              "      <td>host_neighbourhood_Capitol Hill</td>\n",
              "      <td>-41.578080</td>\n",
              "      <td>41.578080</td>\n",
              "    </tr>\n",
              "    <tr>\n",
              "      <th>31</th>\n",
              "      <td>room_type_Private room</td>\n",
              "      <td>-25.489424</td>\n",
              "      <td>25.489424</td>\n",
              "    </tr>\n",
              "    <tr>\n",
              "      <th>25</th>\n",
              "      <td>neighbourhood_group_cleansed_Downtown</td>\n",
              "      <td>22.148703</td>\n",
              "      <td>22.148703</td>\n",
              "    </tr>\n",
              "    <tr>\n",
              "      <th>32</th>\n",
              "      <td>bed_type_Real Bed</td>\n",
              "      <td>21.209711</td>\n",
              "      <td>21.209711</td>\n",
              "    </tr>\n",
              "    <tr>\n",
              "      <th>0</th>\n",
              "      <td>latitude</td>\n",
              "      <td>-18.297969</td>\n",
              "      <td>18.297969</td>\n",
              "    </tr>\n",
              "    <tr>\n",
              "      <th>27</th>\n",
              "      <td>neighbourhood_group_cleansed_Queen Anne</td>\n",
              "      <td>17.436805</td>\n",
              "      <td>17.436805</td>\n",
              "    </tr>\n",
              "    <tr>\n",
              "      <th>3</th>\n",
              "      <td>bedrooms</td>\n",
              "      <td>14.784958</td>\n",
              "      <td>14.784958</td>\n",
              "    </tr>\n",
              "    <tr>\n",
              "      <th>2</th>\n",
              "      <td>bathrooms</td>\n",
              "      <td>14.104145</td>\n",
              "      <td>14.104145</td>\n",
              "    </tr>\n",
              "    <tr>\n",
              "      <th>15</th>\n",
              "      <td>host_neighbourhood_Belltown</td>\n",
              "      <td>9.493648</td>\n",
              "      <td>9.493648</td>\n",
              "    </tr>\n",
              "    <tr>\n",
              "      <th>23</th>\n",
              "      <td>neighbourhood_group_cleansed_Capitol Hill</td>\n",
              "      <td>9.433405</td>\n",
              "      <td>9.433405</td>\n",
              "    </tr>\n",
              "    <tr>\n",
              "      <th>24</th>\n",
              "      <td>neighbourhood_group_cleansed_Central Area</td>\n",
              "      <td>9.317744</td>\n",
              "      <td>9.317744</td>\n",
              "    </tr>\n",
              "    <tr>\n",
              "      <th>14</th>\n",
              "      <td>host_neighbourhood_Ballard</td>\n",
              "      <td>7.946092</td>\n",
              "      <td>7.946092</td>\n",
              "    </tr>\n",
              "    <tr>\n",
              "      <th>19</th>\n",
              "      <td>neighbourhood_Ballard</td>\n",
              "      <td>-7.372526</td>\n",
              "      <td>7.372526</td>\n",
              "    </tr>\n",
              "    <tr>\n",
              "      <th>21</th>\n",
              "      <td>neighbourhood_cleansed_Belltown</td>\n",
              "      <td>-5.902922</td>\n",
              "      <td>5.902922</td>\n",
              "    </tr>\n",
              "    <tr>\n",
              "      <th>1</th>\n",
              "      <td>accommodates</td>\n",
              "      <td>4.791466</td>\n",
              "      <td>4.791466</td>\n",
              "    </tr>\n",
              "    <tr>\n",
              "      <th>26</th>\n",
              "      <td>neighbourhood_group_cleansed_Other neighborhoods</td>\n",
              "      <td>3.387241</td>\n",
              "      <td>3.387241</td>\n",
              "    </tr>\n",
              "    <tr>\n",
              "      <th>17</th>\n",
              "      <td>host_has_profile_pic_t</td>\n",
              "      <td>3.208817</td>\n",
              "      <td>3.208817</td>\n",
              "    </tr>\n",
              "    <tr>\n",
              "      <th>11</th>\n",
              "      <td>review_scores_location</td>\n",
              "      <td>2.790770</td>\n",
              "      <td>2.790770</td>\n",
              "    </tr>\n",
              "  </tbody>\n",
              "</table>\n",
              "</div>"
            ],
            "text/plain": [
              "                                             est_int      coefs  abs_coefs\n",
              "20                        neighbourhood_Capitol Hill  46.571412  46.571412\n",
              "28                                      city_Seattle  45.133119  45.133119\n",
              "16                   host_neighbourhood_Capitol Hill -41.578080  41.578080\n",
              "31                            room_type_Private room -25.489424  25.489424\n",
              "25             neighbourhood_group_cleansed_Downtown  22.148703  22.148703\n",
              "32                                 bed_type_Real Bed  21.209711  21.209711\n",
              "0                                           latitude -18.297969  18.297969\n",
              "27           neighbourhood_group_cleansed_Queen Anne  17.436805  17.436805\n",
              "3                                           bedrooms  14.784958  14.784958\n",
              "2                                          bathrooms  14.104145  14.104145\n",
              "15                       host_neighbourhood_Belltown   9.493648   9.493648\n",
              "23         neighbourhood_group_cleansed_Capitol Hill   9.433405   9.433405\n",
              "24         neighbourhood_group_cleansed_Central Area   9.317744   9.317744\n",
              "14                        host_neighbourhood_Ballard   7.946092   7.946092\n",
              "19                             neighbourhood_Ballard  -7.372526   7.372526\n",
              "21                   neighbourhood_cleansed_Belltown  -5.902922   5.902922\n",
              "1                                       accommodates   4.791466   4.791466\n",
              "26  neighbourhood_group_cleansed_Other neighborhoods   3.387241   3.387241\n",
              "17                            host_has_profile_pic_t   3.208817   3.208817\n",
              "11                            review_scores_location   2.790770   2.790770"
            ]
          },
          "metadata": {
            "tags": []
          },
          "execution_count": 26
        }
      ]
    },
    {
      "cell_type": "code",
      "metadata": {
        "colab": {
          "base_uri": "https://localhost:8080/"
        },
        "id": "4FpD6c8p8bXu",
        "outputId": "1da5af89-83ab-4907-9e3c-9a866abd8951"
      },
      "source": [
        "X_train.columns"
      ],
      "execution_count": 25,
      "outputs": [
        {
          "output_type": "execute_result",
          "data": {
            "text/plain": [
              "Index(['latitude', 'accommodates', 'bathrooms', 'bedrooms', 'cleaning_fee',\n",
              "       'guests_included', 'extra_people', 'minimum_nights', 'maximum_nights',\n",
              "       'review_scores_rating', 'review_scores_cleanliness',\n",
              "       'review_scores_location', 'amenities_number',\n",
              "       'host_location_Seattle, Washington, United States',\n",
              "       'host_neighbourhood_Ballard', 'host_neighbourhood_Belltown',\n",
              "       'host_neighbourhood_Capitol Hill', 'host_has_profile_pic_t',\n",
              "       'host_identity_verified_t', 'neighbourhood_Ballard',\n",
              "       'neighbourhood_Capitol Hill', 'neighbourhood_cleansed_Belltown',\n",
              "       'neighbourhood_cleansed_Broadway',\n",
              "       'neighbourhood_group_cleansed_Capitol Hill',\n",
              "       'neighbourhood_group_cleansed_Central Area',\n",
              "       'neighbourhood_group_cleansed_Downtown',\n",
              "       'neighbourhood_group_cleansed_Other neighborhoods',\n",
              "       'neighbourhood_group_cleansed_Queen Anne', 'city_Seattle',\n",
              "       'is_location_exact_t', 'property_type_House', 'room_type_Private room',\n",
              "       'bed_type_Real Bed', 'cancellation_policy_moderate',\n",
              "       'cancellation_policy_strict'],\n",
              "      dtype='object')"
            ]
          },
          "metadata": {
            "tags": []
          },
          "execution_count": 25
        }
      ]
    },
    {
      "cell_type": "code",
      "metadata": {
        "colab": {
          "base_uri": "https://localhost:8080/"
        },
        "id": "ao-_k6S-ppqY",
        "outputId": "5bbfef23-49f5-41fd-f83b-b401c317ce76"
      },
      "source": [
        "X_train.shape, lm_model.coef_.shape ,lm_model.coef_.T.shape"
      ],
      "execution_count": 24,
      "outputs": [
        {
          "output_type": "execute_result",
          "data": {
            "text/plain": [
              "((2360, 35), (1, 35), (35, 1))"
            ]
          },
          "metadata": {
            "tags": []
          },
          "execution_count": 24
        }
      ]
    }
  ]
}